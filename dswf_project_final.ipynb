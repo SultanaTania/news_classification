{
 "cells": [
  {
   "cell_type": "code",
   "execution_count": 1,
   "metadata": {
    "colab": {
     "base_uri": "https://localhost:8080/"
    },
    "id": "L_zJXlevWk6g",
    "outputId": "9f76aec5-9731-4bf5-d67a-9bbe100223d8"
   },
   "outputs": [
    {
     "name": "stderr",
     "output_type": "stream",
     "text": [
      "[nltk_data] Downloading package punkt to /root/nltk_data...\n",
      "[nltk_data]   Unzipping tokenizers/punkt.zip.\n"
     ]
    },
    {
     "data": {
      "text/plain": [
       "True"
      ]
     },
     "execution_count": 1,
     "metadata": {},
     "output_type": "execute_result"
    }
   ],
   "source": [
    "import nltk\n",
    "nltk.download('punkt')"
   ]
  },
  {
   "cell_type": "code",
   "execution_count": 2,
   "metadata": {
    "colab": {
     "base_uri": "https://localhost:8080/"
    },
    "id": "AwCJcao54DVj",
    "outputId": "05f587d0-030c-454c-a606-a10daae00ff5"
   },
   "outputs": [
    {
     "name": "stderr",
     "output_type": "stream",
     "text": [
      "[nltk_data] Downloading package stopwords to /root/nltk_data...\n",
      "[nltk_data]   Unzipping corpora/stopwords.zip.\n"
     ]
    },
    {
     "data": {
      "text/plain": [
       "True"
      ]
     },
     "execution_count": 2,
     "metadata": {},
     "output_type": "execute_result"
    }
   ],
   "source": [
    "nltk.download('stopwords')"
   ]
  },
  {
   "cell_type": "code",
   "execution_count": 5,
   "metadata": {
    "colab": {
     "base_uri": "https://localhost:8080/"
    },
    "id": "vRGqgj31l2te",
    "outputId": "07e54811-7d81-46d1-ce38-1aa0c1dd440a"
   },
   "outputs": [
    {
     "name": "stdout",
     "output_type": "stream",
     "text": [
      "Looking in indexes: https://pypi.org/simple, https://us-python.pkg.dev/colab-wheels/public/simple/\n",
      "Collecting newspaper3k\n",
      "  Downloading newspaper3k-0.2.8-py3-none-any.whl (211 kB)\n",
      "\u001b[K     |████████████████████████████████| 211 kB 4.2 MB/s \n",
      "\u001b[?25hRequirement already satisfied: lxml>=3.6.0 in /usr/local/lib/python3.7/dist-packages (from newspaper3k) (4.2.6)\n",
      "Collecting tldextract>=2.0.1\n",
      "  Downloading tldextract-3.3.1-py3-none-any.whl (93 kB)\n",
      "\u001b[K     |████████████████████████████████| 93 kB 1.9 MB/s \n",
      "\u001b[?25hRequirement already satisfied: PyYAML>=3.11 in /usr/local/lib/python3.7/dist-packages (from newspaper3k) (3.13)\n",
      "Collecting feedparser>=5.2.1\n",
      "  Downloading feedparser-6.0.10-py3-none-any.whl (81 kB)\n",
      "\u001b[K     |████████████████████████████████| 81 kB 9.3 MB/s \n",
      "\u001b[?25hRequirement already satisfied: python-dateutil>=2.5.3 in /usr/local/lib/python3.7/dist-packages (from newspaper3k) (2.8.2)\n",
      "Collecting cssselect>=0.9.2\n",
      "  Downloading cssselect-1.1.0-py2.py3-none-any.whl (16 kB)\n",
      "Requirement already satisfied: requests>=2.10.0 in /usr/local/lib/python3.7/dist-packages (from newspaper3k) (2.23.0)\n",
      "Collecting feedfinder2>=0.0.4\n",
      "  Downloading feedfinder2-0.0.4.tar.gz (3.3 kB)\n",
      "Collecting tinysegmenter==0.3\n",
      "  Downloading tinysegmenter-0.3.tar.gz (16 kB)\n",
      "Requirement already satisfied: beautifulsoup4>=4.4.1 in /usr/local/lib/python3.7/dist-packages (from newspaper3k) (4.6.3)\n",
      "Collecting jieba3k>=0.35.1\n",
      "  Downloading jieba3k-0.35.1.zip (7.4 MB)\n",
      "\u001b[K     |████████████████████████████████| 7.4 MB 6.4 MB/s \n",
      "\u001b[?25hRequirement already satisfied: nltk>=3.2.1 in /usr/local/lib/python3.7/dist-packages (from newspaper3k) (3.7)\n",
      "Requirement already satisfied: Pillow>=3.3.0 in /usr/local/lib/python3.7/dist-packages (from newspaper3k) (7.1.2)\n",
      "Requirement already satisfied: six in /usr/local/lib/python3.7/dist-packages (from feedfinder2>=0.0.4->newspaper3k) (1.15.0)\n",
      "Collecting sgmllib3k\n",
      "  Downloading sgmllib3k-1.0.0.tar.gz (5.8 kB)\n",
      "Requirement already satisfied: click in /usr/local/lib/python3.7/dist-packages (from nltk>=3.2.1->newspaper3k) (7.1.2)\n",
      "Requirement already satisfied: tqdm in /usr/local/lib/python3.7/dist-packages (from nltk>=3.2.1->newspaper3k) (4.64.0)\n",
      "Requirement already satisfied: joblib in /usr/local/lib/python3.7/dist-packages (from nltk>=3.2.1->newspaper3k) (1.1.0)\n",
      "Requirement already satisfied: regex>=2021.8.3 in /usr/local/lib/python3.7/dist-packages (from nltk>=3.2.1->newspaper3k) (2022.6.2)\n",
      "Requirement already satisfied: certifi>=2017.4.17 in /usr/local/lib/python3.7/dist-packages (from requests>=2.10.0->newspaper3k) (2022.6.15)\n",
      "Requirement already satisfied: chardet<4,>=3.0.2 in /usr/local/lib/python3.7/dist-packages (from requests>=2.10.0->newspaper3k) (3.0.4)\n",
      "Requirement already satisfied: idna<3,>=2.5 in /usr/local/lib/python3.7/dist-packages (from requests>=2.10.0->newspaper3k) (2.10)\n",
      "Requirement already satisfied: urllib3!=1.25.0,!=1.25.1,<1.26,>=1.21.1 in /usr/local/lib/python3.7/dist-packages (from requests>=2.10.0->newspaper3k) (1.24.3)\n",
      "Requirement already satisfied: filelock>=3.0.8 in /usr/local/lib/python3.7/dist-packages (from tldextract>=2.0.1->newspaper3k) (3.7.1)\n",
      "Collecting requests-file>=1.4\n",
      "  Downloading requests_file-1.5.1-py2.py3-none-any.whl (3.7 kB)\n",
      "Building wheels for collected packages: tinysegmenter, feedfinder2, jieba3k, sgmllib3k\n",
      "  Building wheel for tinysegmenter (setup.py) ... \u001b[?25l\u001b[?25hdone\n",
      "  Created wheel for tinysegmenter: filename=tinysegmenter-0.3-py3-none-any.whl size=13553 sha256=e555944822a493e9bd69232e5c4d708c0c3d172ad4cfa44b66ed6d64a6706252\n",
      "  Stored in directory: /root/.cache/pip/wheels/df/67/41/faca10fa501ca010be41b49d40360c2959e1c4f09bcbfa37fa\n",
      "  Building wheel for feedfinder2 (setup.py) ... \u001b[?25l\u001b[?25hdone\n",
      "  Created wheel for feedfinder2: filename=feedfinder2-0.0.4-py3-none-any.whl size=3357 sha256=43a5c9a3e8ee57c26ec0322cfea35af9ae3028b65b5a9fb58ef1435764cfa5b6\n",
      "  Stored in directory: /root/.cache/pip/wheels/7f/d4/8f/6e2ca54744c9d7292d88ddb8d42876bcdab5e6d84a21c10346\n",
      "  Building wheel for jieba3k (setup.py) ... \u001b[?25l\u001b[?25hdone\n",
      "  Created wheel for jieba3k: filename=jieba3k-0.35.1-py3-none-any.whl size=7398404 sha256=bc944cf85e0d05ef54efafbe6f3e6043b85c58381ffc1bc69a75d766d0233fd6\n",
      "  Stored in directory: /root/.cache/pip/wheels/4c/91/46/3c208287b726df325a5979574324878b679116e4baae1af3c3\n",
      "  Building wheel for sgmllib3k (setup.py) ... \u001b[?25l\u001b[?25hdone\n",
      "  Created wheel for sgmllib3k: filename=sgmllib3k-1.0.0-py3-none-any.whl size=6066 sha256=236dae80c63b54e9e0933df5b43d0d308b587690028c4c78f66f730e21ce06cb\n",
      "  Stored in directory: /root/.cache/pip/wheels/73/ad/a4/0dff4a6ef231fc0dfa12ffbac2a36cebfdddfe059f50e019aa\n",
      "Successfully built tinysegmenter feedfinder2 jieba3k sgmllib3k\n",
      "Installing collected packages: sgmllib3k, requests-file, tldextract, tinysegmenter, jieba3k, feedparser, feedfinder2, cssselect, newspaper3k\n",
      "Successfully installed cssselect-1.1.0 feedfinder2-0.0.4 feedparser-6.0.10 jieba3k-0.35.1 newspaper3k-0.2.8 requests-file-1.5.1 sgmllib3k-1.0.0 tinysegmenter-0.3 tldextract-3.3.1\n"
     ]
    }
   ],
   "source": [
    "!pip install newspaper3k"
   ]
  },
  {
   "cell_type": "code",
   "execution_count": 6,
   "metadata": {
    "id": "2veqMa2oE-ef"
   },
   "outputs": [],
   "source": [
    "import pandas as pd\n",
    "import numpy as np\n",
    "import newspaper\n",
    "\n",
    "import itertools\n",
    "import requests\n",
    "import os.path\n",
    "import string\n",
    "\n",
    "from bs4 import BeautifulSoup\n",
    "from datetime import datetime, date\n",
    "from google.colab import drive\n",
    "from newspaper import Article\n",
    "\n",
    "from nltk.corpus import stopwords\n",
    "from nltk.tokenize import word_tokenize"
   ]
  },
  {
   "cell_type": "code",
   "execution_count": 7,
   "metadata": {
    "colab": {
     "base_uri": "https://localhost:8080/"
    },
    "id": "IehR4cbeau-d",
    "outputId": "839f5271-f995-47fa-d33d-4e32610575aa"
   },
   "outputs": [
    {
     "name": "stdout",
     "output_type": "stream",
     "text": [
      "Mounted at /content/drive\n"
     ]
    }
   ],
   "source": [
    "drive.mount('/content/drive')"
   ]
  },
  {
   "cell_type": "code",
   "execution_count": 8,
   "metadata": {
    "id": "CWXQwJkOFonR"
   },
   "outputs": [],
   "source": [
    "def get_all_url(in_df, base_url, news_cat):\n",
    "    \n",
    "    all_urls = list(in_df['article_link'])\n",
    "    categories = list(in_df['category'])\n",
    "    all_dates = list(in_df['upload_date'])\n",
    "    all_text = list(in_df['original_text'])\n",
    "\n",
    "    print(f'\\nPrevious data: {len(in_df)}')\n",
    "\n",
    "    for _category in news_cat:\n",
    "        # get the returned webpage\n",
    "        page_url = base_url+_category\n",
    "        #print(f'PageURl= {page_url}')\n",
    "\n",
    "        page = requests.get(page_url)\n",
    "        soup = BeautifulSoup(page.content, 'html.parser')\n",
    "\n",
    "        _urls = soup.find_all('a')\n",
    "    \n",
    "        for _url in _urls:\n",
    "            _temp_url = _url.get('href')\n",
    "\n",
    "            #print(_temp_url)\n",
    "\n",
    "            # check duplicacy\n",
    "            if _temp_url not in all_urls:\n",
    "                # get only the urls related with this sub categories\n",
    "                if str(_temp_url).startswith(page_url):\n",
    "                    url_arr = _temp_url.replace(page_url, '')\n",
    "\n",
    "                    #print(url_arr)\n",
    "\n",
    "                    if len(url_arr.strip()) > 1:\n",
    "                        #print(_temp_url)\n",
    "                        all_urls.append(_temp_url)\n",
    "                        categories.append(_category)\n",
    "                        all_dates.append('')\n",
    "                        all_text.append('')\n",
    "\n",
    "    return pd.DataFrame({'article_link': all_urls, 'upload_date': all_dates, 'original_text': all_text,  'category': categories} )"
   ]
  },
  {
   "cell_type": "code",
   "execution_count": 9,
   "metadata": {
    "colab": {
     "base_uri": "https://localhost:8080/"
    },
    "id": "QIk1rJzhLXC6",
    "outputId": "944363b7-93a2-4ee5-de74-ed076aed2289"
   },
   "outputs": [
    {
     "name": "stdout",
     "output_type": "stream",
     "text": [
      "Get file location\n",
      "\n",
      "Previous data: 272\n",
      "Total URL get: 327\n"
     ]
    }
   ],
   "source": [
    "# define base url and top categories\n",
    "base_url = 'https://bdnews24.com/'\n",
    "news_cat = ['politics', 'business', 'economy', 'science', 'technology', 'cricket', 'sport']\n",
    "\n",
    "try:\n",
    "    # load previous data file if exist\n",
    "    df = pd.read_csv('/content/drive/MyDrive/datasets/news_paper_urls.csv')\n",
    "    print('Get file location')\n",
    "except FileNotFoundError as e: \n",
    "    # initialize the data frame\n",
    "    print(f'File read error')\n",
    "    df = pd.DataFrame(columns=['article_link', 'upload_date', 'original_text', 'category'])\n",
    "\n",
    "df = get_all_url(df, base_url, news_cat)\n",
    "\n",
    "print(f'Total URL get: {len(df)}')"
   ]
  },
  {
   "cell_type": "code",
   "execution_count": 10,
   "metadata": {
    "colab": {
     "base_uri": "https://localhost:8080/",
     "height": 206
    },
    "id": "OIoJhH6yMsl1",
    "outputId": "6f98c194-f519-4240-c679-9debd2170854"
   },
   "outputs": [
    {
     "data": {
      "text/html": [
       "\n",
       "  <div id=\"df-74fb509c-67a7-4417-b500-f677f497b6d6\">\n",
       "    <div class=\"colab-df-container\">\n",
       "      <div>\n",
       "<style scoped>\n",
       "    .dataframe tbody tr th:only-of-type {\n",
       "        vertical-align: middle;\n",
       "    }\n",
       "\n",
       "    .dataframe tbody tr th {\n",
       "        vertical-align: top;\n",
       "    }\n",
       "\n",
       "    .dataframe thead th {\n",
       "        text-align: right;\n",
       "    }\n",
       "</style>\n",
       "<table border=\"1\" class=\"dataframe\">\n",
       "  <thead>\n",
       "    <tr style=\"text-align: right;\">\n",
       "      <th></th>\n",
       "      <th>article_link</th>\n",
       "      <th>upload_date</th>\n",
       "      <th>original_text</th>\n",
       "      <th>category</th>\n",
       "    </tr>\n",
       "  </thead>\n",
       "  <tbody>\n",
       "    <tr>\n",
       "      <th>0</th>\n",
       "      <td>https://bdnews24.com/politics/2022/07/21/uk-le...</td>\n",
       "      <td>21/07/2022</td>\n",
       "      <td>UK leadership candidate Truss leads rival Suna...</td>\n",
       "      <td>politics</td>\n",
       "    </tr>\n",
       "    <tr>\n",
       "      <th>1</th>\n",
       "      <td>https://bdnews24.com/politics/2022/07/20/hasta...</td>\n",
       "      <td>20/07/2022</td>\n",
       "      <td>Johnson was forced to announce his resignation...</td>\n",
       "      <td>politics</td>\n",
       "    </tr>\n",
       "    <tr>\n",
       "      <th>2</th>\n",
       "      <td>https://bdnews24.com/politics/2022/07/20/what-...</td>\n",
       "      <td>20/07/2022</td>\n",
       "      <td>Russian President Vladimir Putin used a rare f...</td>\n",
       "      <td>politics</td>\n",
       "    </tr>\n",
       "    <tr>\n",
       "      <th>3</th>\n",
       "      <td>https://bdnews24.com/politics/2022/07/19/race-...</td>\n",
       "      <td>19/07/2022</td>\n",
       "      <td>Since Johnson said he would resign earlier thi...</td>\n",
       "      <td>politics</td>\n",
       "    </tr>\n",
       "    <tr>\n",
       "      <th>4</th>\n",
       "      <td>https://bdnews24.com/politics/2022/07/19/incre...</td>\n",
       "      <td>19/07/2022</td>\n",
       "      <td>Sunak got 115 votes in the third ballot of Con...</td>\n",
       "      <td>politics</td>\n",
       "    </tr>\n",
       "  </tbody>\n",
       "</table>\n",
       "</div>\n",
       "      <button class=\"colab-df-convert\" onclick=\"convertToInteractive('df-74fb509c-67a7-4417-b500-f677f497b6d6')\"\n",
       "              title=\"Convert this dataframe to an interactive table.\"\n",
       "              style=\"display:none;\">\n",
       "        \n",
       "  <svg xmlns=\"http://www.w3.org/2000/svg\" height=\"24px\"viewBox=\"0 0 24 24\"\n",
       "       width=\"24px\">\n",
       "    <path d=\"M0 0h24v24H0V0z\" fill=\"none\"/>\n",
       "    <path d=\"M18.56 5.44l.94 2.06.94-2.06 2.06-.94-2.06-.94-.94-2.06-.94 2.06-2.06.94zm-11 1L8.5 8.5l.94-2.06 2.06-.94-2.06-.94L8.5 2.5l-.94 2.06-2.06.94zm10 10l.94 2.06.94-2.06 2.06-.94-2.06-.94-.94-2.06-.94 2.06-2.06.94z\"/><path d=\"M17.41 7.96l-1.37-1.37c-.4-.4-.92-.59-1.43-.59-.52 0-1.04.2-1.43.59L10.3 9.45l-7.72 7.72c-.78.78-.78 2.05 0 2.83L4 21.41c.39.39.9.59 1.41.59.51 0 1.02-.2 1.41-.59l7.78-7.78 2.81-2.81c.8-.78.8-2.07 0-2.86zM5.41 20L4 18.59l7.72-7.72 1.47 1.35L5.41 20z\"/>\n",
       "  </svg>\n",
       "      </button>\n",
       "      \n",
       "  <style>\n",
       "    .colab-df-container {\n",
       "      display:flex;\n",
       "      flex-wrap:wrap;\n",
       "      gap: 12px;\n",
       "    }\n",
       "\n",
       "    .colab-df-convert {\n",
       "      background-color: #E8F0FE;\n",
       "      border: none;\n",
       "      border-radius: 50%;\n",
       "      cursor: pointer;\n",
       "      display: none;\n",
       "      fill: #1967D2;\n",
       "      height: 32px;\n",
       "      padding: 0 0 0 0;\n",
       "      width: 32px;\n",
       "    }\n",
       "\n",
       "    .colab-df-convert:hover {\n",
       "      background-color: #E2EBFA;\n",
       "      box-shadow: 0px 1px 2px rgba(60, 64, 67, 0.3), 0px 1px 3px 1px rgba(60, 64, 67, 0.15);\n",
       "      fill: #174EA6;\n",
       "    }\n",
       "\n",
       "    [theme=dark] .colab-df-convert {\n",
       "      background-color: #3B4455;\n",
       "      fill: #D2E3FC;\n",
       "    }\n",
       "\n",
       "    [theme=dark] .colab-df-convert:hover {\n",
       "      background-color: #434B5C;\n",
       "      box-shadow: 0px 1px 3px 1px rgba(0, 0, 0, 0.15);\n",
       "      filter: drop-shadow(0px 1px 2px rgba(0, 0, 0, 0.3));\n",
       "      fill: #FFFFFF;\n",
       "    }\n",
       "  </style>\n",
       "\n",
       "      <script>\n",
       "        const buttonEl =\n",
       "          document.querySelector('#df-74fb509c-67a7-4417-b500-f677f497b6d6 button.colab-df-convert');\n",
       "        buttonEl.style.display =\n",
       "          google.colab.kernel.accessAllowed ? 'block' : 'none';\n",
       "\n",
       "        async function convertToInteractive(key) {\n",
       "          const element = document.querySelector('#df-74fb509c-67a7-4417-b500-f677f497b6d6');\n",
       "          const dataTable =\n",
       "            await google.colab.kernel.invokeFunction('convertToInteractive',\n",
       "                                                     [key], {});\n",
       "          if (!dataTable) return;\n",
       "\n",
       "          const docLinkHtml = 'Like what you see? Visit the ' +\n",
       "            '<a target=\"_blank\" href=https://colab.research.google.com/notebooks/data_table.ipynb>data table notebook</a>'\n",
       "            + ' to learn more about interactive tables.';\n",
       "          element.innerHTML = '';\n",
       "          dataTable['output_type'] = 'display_data';\n",
       "          await google.colab.output.renderOutput(dataTable, element);\n",
       "          const docLink = document.createElement('div');\n",
       "          docLink.innerHTML = docLinkHtml;\n",
       "          element.appendChild(docLink);\n",
       "        }\n",
       "      </script>\n",
       "    </div>\n",
       "  </div>\n",
       "  "
      ],
      "text/plain": [
       "                                        article_link upload_date  \\\n",
       "0  https://bdnews24.com/politics/2022/07/21/uk-le...  21/07/2022   \n",
       "1  https://bdnews24.com/politics/2022/07/20/hasta...  20/07/2022   \n",
       "2  https://bdnews24.com/politics/2022/07/20/what-...  20/07/2022   \n",
       "3  https://bdnews24.com/politics/2022/07/19/race-...  19/07/2022   \n",
       "4  https://bdnews24.com/politics/2022/07/19/incre...  19/07/2022   \n",
       "\n",
       "                                       original_text  category  \n",
       "0  UK leadership candidate Truss leads rival Suna...  politics  \n",
       "1  Johnson was forced to announce his resignation...  politics  \n",
       "2  Russian President Vladimir Putin used a rare f...  politics  \n",
       "3  Since Johnson said he would resign earlier thi...  politics  \n",
       "4  Sunak got 115 votes in the third ballot of Con...  politics  "
      ]
     },
     "execution_count": 10,
     "metadata": {},
     "output_type": "execute_result"
    }
   ],
   "source": [
    "df.head()"
   ]
  },
  {
   "cell_type": "code",
   "execution_count": 11,
   "metadata": {
    "colab": {
     "base_uri": "https://localhost:8080/",
     "height": 206
    },
    "id": "QbH30KakNKlU",
    "outputId": "5244e2a8-9663-46b9-d5f2-ce29de22cc0b"
   },
   "outputs": [
    {
     "data": {
      "text/html": [
       "\n",
       "  <div id=\"df-528da7c6-24f6-488e-9320-f17c5ac248c7\">\n",
       "    <div class=\"colab-df-container\">\n",
       "      <div>\n",
       "<style scoped>\n",
       "    .dataframe tbody tr th:only-of-type {\n",
       "        vertical-align: middle;\n",
       "    }\n",
       "\n",
       "    .dataframe tbody tr th {\n",
       "        vertical-align: top;\n",
       "    }\n",
       "\n",
       "    .dataframe thead th {\n",
       "        text-align: right;\n",
       "    }\n",
       "</style>\n",
       "<table border=\"1\" class=\"dataframe\">\n",
       "  <thead>\n",
       "    <tr style=\"text-align: right;\">\n",
       "      <th></th>\n",
       "      <th>article_link</th>\n",
       "      <th>upload_date</th>\n",
       "      <th>original_text</th>\n",
       "      <th>category</th>\n",
       "    </tr>\n",
       "  </thead>\n",
       "  <tbody>\n",
       "    <tr>\n",
       "      <th>322</th>\n",
       "      <td>https://bdnews24.com/sport/mane-de-ligt-score-...</td>\n",
       "      <td></td>\n",
       "      <td></td>\n",
       "      <td>sport</td>\n",
       "    </tr>\n",
       "    <tr>\n",
       "      <th>323</th>\n",
       "      <td>https://bdnews24.com/sport/covid-puts-a-stop-t...</td>\n",
       "      <td></td>\n",
       "      <td></td>\n",
       "      <td>sport</td>\n",
       "    </tr>\n",
       "    <tr>\n",
       "      <th>324</th>\n",
       "      <td>https://bdnews24.com/sport/ronaldo-not-for-sal...</td>\n",
       "      <td></td>\n",
       "      <td></td>\n",
       "      <td>sport</td>\n",
       "    </tr>\n",
       "    <tr>\n",
       "      <th>325</th>\n",
       "      <td>https://bdnews24.com/sport/farah-says-he-was-v...</td>\n",
       "      <td></td>\n",
       "      <td></td>\n",
       "      <td>sport</td>\n",
       "    </tr>\n",
       "    <tr>\n",
       "      <th>326</th>\n",
       "      <td>https://bdnews24.com/sport/fulham-sign-midfiel...</td>\n",
       "      <td></td>\n",
       "      <td></td>\n",
       "      <td>sport</td>\n",
       "    </tr>\n",
       "  </tbody>\n",
       "</table>\n",
       "</div>\n",
       "      <button class=\"colab-df-convert\" onclick=\"convertToInteractive('df-528da7c6-24f6-488e-9320-f17c5ac248c7')\"\n",
       "              title=\"Convert this dataframe to an interactive table.\"\n",
       "              style=\"display:none;\">\n",
       "        \n",
       "  <svg xmlns=\"http://www.w3.org/2000/svg\" height=\"24px\"viewBox=\"0 0 24 24\"\n",
       "       width=\"24px\">\n",
       "    <path d=\"M0 0h24v24H0V0z\" fill=\"none\"/>\n",
       "    <path d=\"M18.56 5.44l.94 2.06.94-2.06 2.06-.94-2.06-.94-.94-2.06-.94 2.06-2.06.94zm-11 1L8.5 8.5l.94-2.06 2.06-.94-2.06-.94L8.5 2.5l-.94 2.06-2.06.94zm10 10l.94 2.06.94-2.06 2.06-.94-2.06-.94-.94-2.06-.94 2.06-2.06.94z\"/><path d=\"M17.41 7.96l-1.37-1.37c-.4-.4-.92-.59-1.43-.59-.52 0-1.04.2-1.43.59L10.3 9.45l-7.72 7.72c-.78.78-.78 2.05 0 2.83L4 21.41c.39.39.9.59 1.41.59.51 0 1.02-.2 1.41-.59l7.78-7.78 2.81-2.81c.8-.78.8-2.07 0-2.86zM5.41 20L4 18.59l7.72-7.72 1.47 1.35L5.41 20z\"/>\n",
       "  </svg>\n",
       "      </button>\n",
       "      \n",
       "  <style>\n",
       "    .colab-df-container {\n",
       "      display:flex;\n",
       "      flex-wrap:wrap;\n",
       "      gap: 12px;\n",
       "    }\n",
       "\n",
       "    .colab-df-convert {\n",
       "      background-color: #E8F0FE;\n",
       "      border: none;\n",
       "      border-radius: 50%;\n",
       "      cursor: pointer;\n",
       "      display: none;\n",
       "      fill: #1967D2;\n",
       "      height: 32px;\n",
       "      padding: 0 0 0 0;\n",
       "      width: 32px;\n",
       "    }\n",
       "\n",
       "    .colab-df-convert:hover {\n",
       "      background-color: #E2EBFA;\n",
       "      box-shadow: 0px 1px 2px rgba(60, 64, 67, 0.3), 0px 1px 3px 1px rgba(60, 64, 67, 0.15);\n",
       "      fill: #174EA6;\n",
       "    }\n",
       "\n",
       "    [theme=dark] .colab-df-convert {\n",
       "      background-color: #3B4455;\n",
       "      fill: #D2E3FC;\n",
       "    }\n",
       "\n",
       "    [theme=dark] .colab-df-convert:hover {\n",
       "      background-color: #434B5C;\n",
       "      box-shadow: 0px 1px 3px 1px rgba(0, 0, 0, 0.15);\n",
       "      filter: drop-shadow(0px 1px 2px rgba(0, 0, 0, 0.3));\n",
       "      fill: #FFFFFF;\n",
       "    }\n",
       "  </style>\n",
       "\n",
       "      <script>\n",
       "        const buttonEl =\n",
       "          document.querySelector('#df-528da7c6-24f6-488e-9320-f17c5ac248c7 button.colab-df-convert');\n",
       "        buttonEl.style.display =\n",
       "          google.colab.kernel.accessAllowed ? 'block' : 'none';\n",
       "\n",
       "        async function convertToInteractive(key) {\n",
       "          const element = document.querySelector('#df-528da7c6-24f6-488e-9320-f17c5ac248c7');\n",
       "          const dataTable =\n",
       "            await google.colab.kernel.invokeFunction('convertToInteractive',\n",
       "                                                     [key], {});\n",
       "          if (!dataTable) return;\n",
       "\n",
       "          const docLinkHtml = 'Like what you see? Visit the ' +\n",
       "            '<a target=\"_blank\" href=https://colab.research.google.com/notebooks/data_table.ipynb>data table notebook</a>'\n",
       "            + ' to learn more about interactive tables.';\n",
       "          element.innerHTML = '';\n",
       "          dataTable['output_type'] = 'display_data';\n",
       "          await google.colab.output.renderOutput(dataTable, element);\n",
       "          const docLink = document.createElement('div');\n",
       "          docLink.innerHTML = docLinkHtml;\n",
       "          element.appendChild(docLink);\n",
       "        }\n",
       "      </script>\n",
       "    </div>\n",
       "  </div>\n",
       "  "
      ],
      "text/plain": [
       "                                          article_link upload_date  \\\n",
       "322  https://bdnews24.com/sport/mane-de-ligt-score-...               \n",
       "323  https://bdnews24.com/sport/covid-puts-a-stop-t...               \n",
       "324  https://bdnews24.com/sport/ronaldo-not-for-sal...               \n",
       "325  https://bdnews24.com/sport/farah-says-he-was-v...               \n",
       "326  https://bdnews24.com/sport/fulham-sign-midfiel...               \n",
       "\n",
       "    original_text category  \n",
       "322                  sport  \n",
       "323                  sport  \n",
       "324                  sport  \n",
       "325                  sport  \n",
       "326                  sport  "
      ]
     },
     "execution_count": 11,
     "metadata": {},
     "output_type": "execute_result"
    }
   ],
   "source": [
    "df.tail()"
   ]
  },
  {
   "cell_type": "code",
   "execution_count": 12,
   "metadata": {
    "id": "vEEwERawcmGH"
   },
   "outputs": [],
   "source": [
    "#merge categories\n",
    "def merge_categories(x):\n",
    "    if x == 'cricket':\n",
    "        return 'sport'\n",
    "    elif x == 'economy':\n",
    "        return 'business'\n",
    "    elif x == 'science' or x == 'technology':\n",
    "        return 'science_technology'\n",
    "    return x\n",
    "\n",
    "df['category'] = df['category'].apply(merge_categories)"
   ]
  },
  {
   "cell_type": "code",
   "execution_count": 13,
   "metadata": {
    "colab": {
     "base_uri": "https://localhost:8080/"
    },
    "id": "mVyrka7OXoZ9",
    "outputId": "5d54b9ee-6c8b-4b7b-e331-a06c43966ca8"
   },
   "outputs": [
    {
     "data": {
      "text/plain": [
       "{'business', 'politics', 'science_technology', 'sport'}"
      ]
     },
     "execution_count": 13,
     "metadata": {},
     "output_type": "execute_result"
    }
   ],
   "source": [
    "# get all categories\n",
    "set(df.category)"
   ]
  },
  {
   "cell_type": "code",
   "execution_count": 14,
   "metadata": {
    "id": "TgJ30jpOYxs-"
   },
   "outputs": [],
   "source": [
    "total_article = len(df)"
   ]
  },
  {
   "cell_type": "code",
   "execution_count": 15,
   "metadata": {
    "colab": {
     "base_uri": "https://localhost:8080/"
    },
    "id": "yOMM5w25Xtr_",
    "outputId": "472fac6d-830c-44cc-82d7-e31810676b29"
   },
   "outputs": [
    {
     "name": "stdout",
     "output_type": "stream",
     "text": [
      "Number of droped urls: 0\n"
     ]
    }
   ],
   "source": [
    "# drop dplicate urls\n",
    "df = df.drop_duplicates()\n",
    "print(f'Number of droped urls: {total_article-len(df)}')"
   ]
  },
  {
   "cell_type": "code",
   "execution_count": 16,
   "metadata": {
    "id": "37kbyqWUaVL7"
   },
   "outputs": [],
   "source": [
    "#df.to_csv('/content/drive/MyDrive/datasets/news_paper_urls.csv', index=False)"
   ]
  },
  {
   "cell_type": "code",
   "execution_count": 17,
   "metadata": {
    "id": "-is_JPbubVOT"
   },
   "outputs": [],
   "source": [
    "for index, row in df.iterrows():\n",
    "\n",
    "    if len(row['original_text']) == 0:\n",
    "        # get the article text from the url\n",
    "        article = Article(row['article_link'])\n",
    "        article.download()\n",
    "        article.parse()\n",
    "\n",
    "        date = '' \n",
    "\n",
    "        try:\n",
    "            date = (article.publish_date).strftime(\"%d/%m/%Y\")\n",
    "        except: \n",
    "            date = ''\n",
    "\n",
    "        df.at[index, 'upload_date'] = date\n",
    "        df.at[index, 'original_text'] = article.text"
   ]
  },
  {
   "cell_type": "code",
   "execution_count": 18,
   "metadata": {
    "colab": {
     "base_uri": "https://localhost:8080/",
     "height": 206
    },
    "id": "gg5EXqLANUbr",
    "outputId": "df774849-d429-47e8-bd36-3975df8f1269"
   },
   "outputs": [
    {
     "data": {
      "text/html": [
       "\n",
       "  <div id=\"df-1f2bd5b3-f6f0-424e-899f-7aeb7a1bb155\">\n",
       "    <div class=\"colab-df-container\">\n",
       "      <div>\n",
       "<style scoped>\n",
       "    .dataframe tbody tr th:only-of-type {\n",
       "        vertical-align: middle;\n",
       "    }\n",
       "\n",
       "    .dataframe tbody tr th {\n",
       "        vertical-align: top;\n",
       "    }\n",
       "\n",
       "    .dataframe thead th {\n",
       "        text-align: right;\n",
       "    }\n",
       "</style>\n",
       "<table border=\"1\" class=\"dataframe\">\n",
       "  <thead>\n",
       "    <tr style=\"text-align: right;\">\n",
       "      <th></th>\n",
       "      <th>article_link</th>\n",
       "      <th>upload_date</th>\n",
       "      <th>original_text</th>\n",
       "      <th>category</th>\n",
       "    </tr>\n",
       "  </thead>\n",
       "  <tbody>\n",
       "    <tr>\n",
       "      <th>0</th>\n",
       "      <td>https://bdnews24.com/politics/2022/07/21/uk-le...</td>\n",
       "      <td>21/07/2022</td>\n",
       "      <td>UK leadership candidate Truss leads rival Suna...</td>\n",
       "      <td>politics</td>\n",
       "    </tr>\n",
       "    <tr>\n",
       "      <th>1</th>\n",
       "      <td>https://bdnews24.com/politics/2022/07/20/hasta...</td>\n",
       "      <td>20/07/2022</td>\n",
       "      <td>Johnson was forced to announce his resignation...</td>\n",
       "      <td>politics</td>\n",
       "    </tr>\n",
       "    <tr>\n",
       "      <th>2</th>\n",
       "      <td>https://bdnews24.com/politics/2022/07/20/what-...</td>\n",
       "      <td>20/07/2022</td>\n",
       "      <td>Russian President Vladimir Putin used a rare f...</td>\n",
       "      <td>politics</td>\n",
       "    </tr>\n",
       "    <tr>\n",
       "      <th>3</th>\n",
       "      <td>https://bdnews24.com/politics/2022/07/19/race-...</td>\n",
       "      <td>19/07/2022</td>\n",
       "      <td>Since Johnson said he would resign earlier thi...</td>\n",
       "      <td>politics</td>\n",
       "    </tr>\n",
       "    <tr>\n",
       "      <th>4</th>\n",
       "      <td>https://bdnews24.com/politics/2022/07/19/incre...</td>\n",
       "      <td>19/07/2022</td>\n",
       "      <td>Sunak got 115 votes in the third ballot of Con...</td>\n",
       "      <td>politics</td>\n",
       "    </tr>\n",
       "  </tbody>\n",
       "</table>\n",
       "</div>\n",
       "      <button class=\"colab-df-convert\" onclick=\"convertToInteractive('df-1f2bd5b3-f6f0-424e-899f-7aeb7a1bb155')\"\n",
       "              title=\"Convert this dataframe to an interactive table.\"\n",
       "              style=\"display:none;\">\n",
       "        \n",
       "  <svg xmlns=\"http://www.w3.org/2000/svg\" height=\"24px\"viewBox=\"0 0 24 24\"\n",
       "       width=\"24px\">\n",
       "    <path d=\"M0 0h24v24H0V0z\" fill=\"none\"/>\n",
       "    <path d=\"M18.56 5.44l.94 2.06.94-2.06 2.06-.94-2.06-.94-.94-2.06-.94 2.06-2.06.94zm-11 1L8.5 8.5l.94-2.06 2.06-.94-2.06-.94L8.5 2.5l-.94 2.06-2.06.94zm10 10l.94 2.06.94-2.06 2.06-.94-2.06-.94-.94-2.06-.94 2.06-2.06.94z\"/><path d=\"M17.41 7.96l-1.37-1.37c-.4-.4-.92-.59-1.43-.59-.52 0-1.04.2-1.43.59L10.3 9.45l-7.72 7.72c-.78.78-.78 2.05 0 2.83L4 21.41c.39.39.9.59 1.41.59.51 0 1.02-.2 1.41-.59l7.78-7.78 2.81-2.81c.8-.78.8-2.07 0-2.86zM5.41 20L4 18.59l7.72-7.72 1.47 1.35L5.41 20z\"/>\n",
       "  </svg>\n",
       "      </button>\n",
       "      \n",
       "  <style>\n",
       "    .colab-df-container {\n",
       "      display:flex;\n",
       "      flex-wrap:wrap;\n",
       "      gap: 12px;\n",
       "    }\n",
       "\n",
       "    .colab-df-convert {\n",
       "      background-color: #E8F0FE;\n",
       "      border: none;\n",
       "      border-radius: 50%;\n",
       "      cursor: pointer;\n",
       "      display: none;\n",
       "      fill: #1967D2;\n",
       "      height: 32px;\n",
       "      padding: 0 0 0 0;\n",
       "      width: 32px;\n",
       "    }\n",
       "\n",
       "    .colab-df-convert:hover {\n",
       "      background-color: #E2EBFA;\n",
       "      box-shadow: 0px 1px 2px rgba(60, 64, 67, 0.3), 0px 1px 3px 1px rgba(60, 64, 67, 0.15);\n",
       "      fill: #174EA6;\n",
       "    }\n",
       "\n",
       "    [theme=dark] .colab-df-convert {\n",
       "      background-color: #3B4455;\n",
       "      fill: #D2E3FC;\n",
       "    }\n",
       "\n",
       "    [theme=dark] .colab-df-convert:hover {\n",
       "      background-color: #434B5C;\n",
       "      box-shadow: 0px 1px 3px 1px rgba(0, 0, 0, 0.15);\n",
       "      filter: drop-shadow(0px 1px 2px rgba(0, 0, 0, 0.3));\n",
       "      fill: #FFFFFF;\n",
       "    }\n",
       "  </style>\n",
       "\n",
       "      <script>\n",
       "        const buttonEl =\n",
       "          document.querySelector('#df-1f2bd5b3-f6f0-424e-899f-7aeb7a1bb155 button.colab-df-convert');\n",
       "        buttonEl.style.display =\n",
       "          google.colab.kernel.accessAllowed ? 'block' : 'none';\n",
       "\n",
       "        async function convertToInteractive(key) {\n",
       "          const element = document.querySelector('#df-1f2bd5b3-f6f0-424e-899f-7aeb7a1bb155');\n",
       "          const dataTable =\n",
       "            await google.colab.kernel.invokeFunction('convertToInteractive',\n",
       "                                                     [key], {});\n",
       "          if (!dataTable) return;\n",
       "\n",
       "          const docLinkHtml = 'Like what you see? Visit the ' +\n",
       "            '<a target=\"_blank\" href=https://colab.research.google.com/notebooks/data_table.ipynb>data table notebook</a>'\n",
       "            + ' to learn more about interactive tables.';\n",
       "          element.innerHTML = '';\n",
       "          dataTable['output_type'] = 'display_data';\n",
       "          await google.colab.output.renderOutput(dataTable, element);\n",
       "          const docLink = document.createElement('div');\n",
       "          docLink.innerHTML = docLinkHtml;\n",
       "          element.appendChild(docLink);\n",
       "        }\n",
       "      </script>\n",
       "    </div>\n",
       "  </div>\n",
       "  "
      ],
      "text/plain": [
       "                                        article_link upload_date  \\\n",
       "0  https://bdnews24.com/politics/2022/07/21/uk-le...  21/07/2022   \n",
       "1  https://bdnews24.com/politics/2022/07/20/hasta...  20/07/2022   \n",
       "2  https://bdnews24.com/politics/2022/07/20/what-...  20/07/2022   \n",
       "3  https://bdnews24.com/politics/2022/07/19/race-...  19/07/2022   \n",
       "4  https://bdnews24.com/politics/2022/07/19/incre...  19/07/2022   \n",
       "\n",
       "                                       original_text  category  \n",
       "0  UK leadership candidate Truss leads rival Suna...  politics  \n",
       "1  Johnson was forced to announce his resignation...  politics  \n",
       "2  Russian President Vladimir Putin used a rare f...  politics  \n",
       "3  Since Johnson said he would resign earlier thi...  politics  \n",
       "4  Sunak got 115 votes in the third ballot of Con...  politics  "
      ]
     },
     "execution_count": 18,
     "metadata": {},
     "output_type": "execute_result"
    }
   ],
   "source": [
    "df.head()"
   ]
  },
  {
   "cell_type": "code",
   "execution_count": 19,
   "metadata": {
    "id": "5yk_-p-54Xii"
   },
   "outputs": [],
   "source": [
    "#read input data\n",
    "#df = pd.read_csv('/content/drive/MyDrive/datasets/all_input_data.csv')\n",
    "#print(f'Total number off data points: {len(df)}')"
   ]
  },
  {
   "cell_type": "code",
   "execution_count": 20,
   "metadata": {
    "colab": {
     "base_uri": "https://localhost:8080/"
    },
    "id": "j5s-GvGzNu9W",
    "outputId": "5cfe126b-b15e-4183-e983-1bbfa81a8e3e"
   },
   "outputs": [
    {
     "name": "stdout",
     "output_type": "stream",
     "text": [
      "Total Processed complete 0.31 %\n",
      "Total Processed complete 4.89 %\n",
      "Total Processed complete 9.48 %\n",
      "Total Processed complete 14.07 %\n",
      "Total Processed complete 18.65 %\n",
      "Total Processed complete 23.24 %\n",
      "Total Processed complete 27.83 %\n",
      "Total Processed complete 32.42 %\n",
      "Total Processed complete 37.0 %\n",
      "Total Processed complete 41.59 %\n",
      "Total Processed complete 46.18 %\n",
      "Total Processed complete 50.76 %\n",
      "Total Processed complete 55.35 %\n",
      "Total Processed complete 59.94 %\n",
      "Total Processed complete 64.53 %\n",
      "Total Processed complete 69.11 %\n",
      "Total Processed complete 73.7 %\n",
      "Total Processed complete 78.29 %\n",
      "Total Processed complete 82.87 %\n",
      "Total Processed complete 87.46 %\n",
      "Total Processed complete 92.05 %\n",
      "Total Processed complete 96.64 %\n",
      "Total Processed 100%\n"
     ]
    }
   ],
   "source": [
    "# cleaning the data\n",
    "\n",
    "processed_text = []\n",
    "\n",
    "original_text_list = df['original_text']\n",
    "\n",
    "for index in range(len(original_text_list)):\n",
    "\n",
    "    text = original_text_list[index]\n",
    "    # remove new line\n",
    "    text = text.replace('\\n', ' ').strip()\n",
    "\n",
    "    #remove puncuations\n",
    "    text = text.translate(str.maketrans('', '', string.punctuation))\n",
    "\n",
    "    # set lower case\n",
    "    text = text.lower()\n",
    "\n",
    "    text_tokens = word_tokenize(text)\n",
    "\n",
    "    tokens_without_sw = [word for word in text_tokens if not word in stopwords.words('english')]\n",
    "\n",
    "    text = ' '.join(tokens_without_sw)\n",
    "\n",
    "    processed_text.append(text.strip())\n",
    "    #numeric_category.append(category_ids.index(row['category']))\n",
    "\n",
    "    if index%15 == 0:\n",
    "        print(f'Total Processed complete {round(((index+1)/len(df) * 100),2)} %')\n",
    "print(f'Total Processed 100%')"
   ]
  },
  {
   "cell_type": "code",
   "execution_count": 21,
   "metadata": {
    "colab": {
     "base_uri": "https://localhost:8080/",
     "height": 206
    },
    "id": "HTVFB_MT_sPk",
    "outputId": "889fa715-3359-41df-fed2-fee21a2328bd"
   },
   "outputs": [
    {
     "data": {
      "text/html": [
       "\n",
       "  <div id=\"df-74e7a63c-6175-4cfb-8efd-a81dc4dff722\">\n",
       "    <div class=\"colab-df-container\">\n",
       "      <div>\n",
       "<style scoped>\n",
       "    .dataframe tbody tr th:only-of-type {\n",
       "        vertical-align: middle;\n",
       "    }\n",
       "\n",
       "    .dataframe tbody tr th {\n",
       "        vertical-align: top;\n",
       "    }\n",
       "\n",
       "    .dataframe thead th {\n",
       "        text-align: right;\n",
       "    }\n",
       "</style>\n",
       "<table border=\"1\" class=\"dataframe\">\n",
       "  <thead>\n",
       "    <tr style=\"text-align: right;\">\n",
       "      <th></th>\n",
       "      <th>article_link</th>\n",
       "      <th>upload_date</th>\n",
       "      <th>original_text</th>\n",
       "      <th>processed_data</th>\n",
       "      <th>category</th>\n",
       "    </tr>\n",
       "  </thead>\n",
       "  <tbody>\n",
       "    <tr>\n",
       "      <th>0</th>\n",
       "      <td>https://bdnews24.com/politics/2022/07/21/uk-le...</td>\n",
       "      <td>21/07/2022</td>\n",
       "      <td>UK leadership candidate Truss leads rival Suna...</td>\n",
       "      <td>uk leadership candidate truss leads rival suna...</td>\n",
       "      <td>politics</td>\n",
       "    </tr>\n",
       "    <tr>\n",
       "      <th>1</th>\n",
       "      <td>https://bdnews24.com/politics/2022/07/20/hasta...</td>\n",
       "      <td>20/07/2022</td>\n",
       "      <td>Johnson was forced to announce his resignation...</td>\n",
       "      <td>johnson forced announce resignation earlier mo...</td>\n",
       "      <td>politics</td>\n",
       "    </tr>\n",
       "    <tr>\n",
       "      <th>2</th>\n",
       "      <td>https://bdnews24.com/politics/2022/07/20/what-...</td>\n",
       "      <td>20/07/2022</td>\n",
       "      <td>Russian President Vladimir Putin used a rare f...</td>\n",
       "      <td>russian president vladimir putin used rare for...</td>\n",
       "      <td>politics</td>\n",
       "    </tr>\n",
       "    <tr>\n",
       "      <th>3</th>\n",
       "      <td>https://bdnews24.com/politics/2022/07/19/race-...</td>\n",
       "      <td>19/07/2022</td>\n",
       "      <td>Since Johnson said he would resign earlier thi...</td>\n",
       "      <td>since johnson said would resign earlier month ...</td>\n",
       "      <td>politics</td>\n",
       "    </tr>\n",
       "    <tr>\n",
       "      <th>4</th>\n",
       "      <td>https://bdnews24.com/politics/2022/07/19/incre...</td>\n",
       "      <td>19/07/2022</td>\n",
       "      <td>Sunak got 115 votes in the third ballot of Con...</td>\n",
       "      <td>sunak got 115 votes third ballot conservative ...</td>\n",
       "      <td>politics</td>\n",
       "    </tr>\n",
       "  </tbody>\n",
       "</table>\n",
       "</div>\n",
       "      <button class=\"colab-df-convert\" onclick=\"convertToInteractive('df-74e7a63c-6175-4cfb-8efd-a81dc4dff722')\"\n",
       "              title=\"Convert this dataframe to an interactive table.\"\n",
       "              style=\"display:none;\">\n",
       "        \n",
       "  <svg xmlns=\"http://www.w3.org/2000/svg\" height=\"24px\"viewBox=\"0 0 24 24\"\n",
       "       width=\"24px\">\n",
       "    <path d=\"M0 0h24v24H0V0z\" fill=\"none\"/>\n",
       "    <path d=\"M18.56 5.44l.94 2.06.94-2.06 2.06-.94-2.06-.94-.94-2.06-.94 2.06-2.06.94zm-11 1L8.5 8.5l.94-2.06 2.06-.94-2.06-.94L8.5 2.5l-.94 2.06-2.06.94zm10 10l.94 2.06.94-2.06 2.06-.94-2.06-.94-.94-2.06-.94 2.06-2.06.94z\"/><path d=\"M17.41 7.96l-1.37-1.37c-.4-.4-.92-.59-1.43-.59-.52 0-1.04.2-1.43.59L10.3 9.45l-7.72 7.72c-.78.78-.78 2.05 0 2.83L4 21.41c.39.39.9.59 1.41.59.51 0 1.02-.2 1.41-.59l7.78-7.78 2.81-2.81c.8-.78.8-2.07 0-2.86zM5.41 20L4 18.59l7.72-7.72 1.47 1.35L5.41 20z\"/>\n",
       "  </svg>\n",
       "      </button>\n",
       "      \n",
       "  <style>\n",
       "    .colab-df-container {\n",
       "      display:flex;\n",
       "      flex-wrap:wrap;\n",
       "      gap: 12px;\n",
       "    }\n",
       "\n",
       "    .colab-df-convert {\n",
       "      background-color: #E8F0FE;\n",
       "      border: none;\n",
       "      border-radius: 50%;\n",
       "      cursor: pointer;\n",
       "      display: none;\n",
       "      fill: #1967D2;\n",
       "      height: 32px;\n",
       "      padding: 0 0 0 0;\n",
       "      width: 32px;\n",
       "    }\n",
       "\n",
       "    .colab-df-convert:hover {\n",
       "      background-color: #E2EBFA;\n",
       "      box-shadow: 0px 1px 2px rgba(60, 64, 67, 0.3), 0px 1px 3px 1px rgba(60, 64, 67, 0.15);\n",
       "      fill: #174EA6;\n",
       "    }\n",
       "\n",
       "    [theme=dark] .colab-df-convert {\n",
       "      background-color: #3B4455;\n",
       "      fill: #D2E3FC;\n",
       "    }\n",
       "\n",
       "    [theme=dark] .colab-df-convert:hover {\n",
       "      background-color: #434B5C;\n",
       "      box-shadow: 0px 1px 3px 1px rgba(0, 0, 0, 0.15);\n",
       "      filter: drop-shadow(0px 1px 2px rgba(0, 0, 0, 0.3));\n",
       "      fill: #FFFFFF;\n",
       "    }\n",
       "  </style>\n",
       "\n",
       "      <script>\n",
       "        const buttonEl =\n",
       "          document.querySelector('#df-74e7a63c-6175-4cfb-8efd-a81dc4dff722 button.colab-df-convert');\n",
       "        buttonEl.style.display =\n",
       "          google.colab.kernel.accessAllowed ? 'block' : 'none';\n",
       "\n",
       "        async function convertToInteractive(key) {\n",
       "          const element = document.querySelector('#df-74e7a63c-6175-4cfb-8efd-a81dc4dff722');\n",
       "          const dataTable =\n",
       "            await google.colab.kernel.invokeFunction('convertToInteractive',\n",
       "                                                     [key], {});\n",
       "          if (!dataTable) return;\n",
       "\n",
       "          const docLinkHtml = 'Like what you see? Visit the ' +\n",
       "            '<a target=\"_blank\" href=https://colab.research.google.com/notebooks/data_table.ipynb>data table notebook</a>'\n",
       "            + ' to learn more about interactive tables.';\n",
       "          element.innerHTML = '';\n",
       "          dataTable['output_type'] = 'display_data';\n",
       "          await google.colab.output.renderOutput(dataTable, element);\n",
       "          const docLink = document.createElement('div');\n",
       "          docLink.innerHTML = docLinkHtml;\n",
       "          element.appendChild(docLink);\n",
       "        }\n",
       "      </script>\n",
       "    </div>\n",
       "  </div>\n",
       "  "
      ],
      "text/plain": [
       "                                        article_link upload_date  \\\n",
       "0  https://bdnews24.com/politics/2022/07/21/uk-le...  21/07/2022   \n",
       "1  https://bdnews24.com/politics/2022/07/20/hasta...  20/07/2022   \n",
       "2  https://bdnews24.com/politics/2022/07/20/what-...  20/07/2022   \n",
       "3  https://bdnews24.com/politics/2022/07/19/race-...  19/07/2022   \n",
       "4  https://bdnews24.com/politics/2022/07/19/incre...  19/07/2022   \n",
       "\n",
       "                                       original_text  \\\n",
       "0  UK leadership candidate Truss leads rival Suna...   \n",
       "1  Johnson was forced to announce his resignation...   \n",
       "2  Russian President Vladimir Putin used a rare f...   \n",
       "3  Since Johnson said he would resign earlier thi...   \n",
       "4  Sunak got 115 votes in the third ballot of Con...   \n",
       "\n",
       "                                      processed_data  category  \n",
       "0  uk leadership candidate truss leads rival suna...  politics  \n",
       "1  johnson forced announce resignation earlier mo...  politics  \n",
       "2  russian president vladimir putin used rare for...  politics  \n",
       "3  since johnson said would resign earlier month ...  politics  \n",
       "4  sunak got 115 votes third ballot conservative ...  politics  "
      ]
     },
     "execution_count": 21,
     "metadata": {},
     "output_type": "execute_result"
    }
   ],
   "source": [
    "# add one new column for processed_data\n",
    "df.insert(df.columns.get_loc(\"original_text\")+1, \"processed_data\", processed_text)\n",
    "df.head()"
   ]
  },
  {
   "cell_type": "code",
   "execution_count": 22,
   "metadata": {
    "id": "kMhmyVBl50hU"
   },
   "outputs": [],
   "source": [
    "from sklearn.model_selection import train_test_split\n",
    "from sklearn.feature_extraction.text import CountVectorizer\n",
    "from sklearn.feature_extraction.text import TfidfTransformer\n",
    "from sklearn.naive_bayes import MultinomialNB\n",
    "from sklearn.metrics import accuracy_score, classification_report"
   ]
  },
  {
   "cell_type": "code",
   "execution_count": 23,
   "metadata": {
    "colab": {
     "base_uri": "https://localhost:8080/"
    },
    "id": "w5brS412_e3K",
    "outputId": "1b1a8ac3-e7df-4c0e-8120-495e4193d20d"
   },
   "outputs": [
    {
     "name": "stdout",
     "output_type": "stream",
     "text": [
      "Shape of X_train= (261,), X_test= (66,), y_train= (261,), y_test= (66,)\n"
     ]
    }
   ],
   "source": [
    "X_train, X_test, y_train, y_test = train_test_split(df['processed_data'], df['category'], test_size=0.20, random_state=42)\n",
    "\n",
    "print(f'Shape of X_train= {X_train.shape}, X_test= {X_test.shape}, y_train= {y_train.shape}, y_test= {y_test.shape}')"
   ]
  },
  {
   "cell_type": "code",
   "execution_count": 24,
   "metadata": {
    "colab": {
     "base_uri": "https://localhost:8080/"
    },
    "id": "J9hCmgWrA6Of",
    "outputId": "42796931-3205-4ba4-91f7-6c353eca9c67"
   },
   "outputs": [
    {
     "data": {
      "text/plain": [
       "(261, 11965)"
      ]
     },
     "execution_count": 24,
     "metadata": {},
     "output_type": "execute_result"
    }
   ],
   "source": [
    "# making count vectors\n",
    "count_vect = CountVectorizer()\n",
    "X_train_counts = count_vect.fit_transform(X_train)\n",
    "X_train_counts.shape"
   ]
  },
  {
   "cell_type": "code",
   "execution_count": 25,
   "metadata": {
    "colab": {
     "base_uri": "https://localhost:8080/"
    },
    "id": "ubY4CsCIBtu3",
    "outputId": "8dde4d89-85b7-4367-d469-619cba3aa4a3"
   },
   "outputs": [
    {
     "data": {
      "text/plain": [
       "(261, 11965)"
      ]
     },
     "execution_count": 25,
     "metadata": {},
     "output_type": "execute_result"
    }
   ],
   "source": [
    "# making tf-idf vectors\n",
    "tfidf_transformer = TfidfTransformer()\n",
    "X_train_tfidf = tfidf_transformer.fit_transform(X_train_counts)\n",
    "X_train_tfidf.shape"
   ]
  },
  {
   "cell_type": "code",
   "execution_count": 26,
   "metadata": {
    "id": "wQ7ztz6eCtyz"
   },
   "outputs": [],
   "source": [
    "# model training and prediction\n",
    "\n",
    "# Used naïve Bayes classifier\n",
    "clf = MultinomialNB().fit(X_train_tfidf, y_train)\n",
    "\n",
    "X_test_counts = count_vect.transform(X_test)\n",
    "X_test_tfidf = tfidf_transformer.transform(X_test_counts)\n",
    "\n",
    "predicted = clf.predict(X_test_tfidf)"
   ]
  },
  {
   "cell_type": "code",
   "execution_count": 27,
   "metadata": {
    "colab": {
     "base_uri": "https://localhost:8080/"
    },
    "id": "vY0OPFCuDqNM",
    "outputId": "696118d0-6649-4b72-8456-578420d4b732"
   },
   "outputs": [
    {
     "name": "stdout",
     "output_type": "stream",
     "text": [
      "Model accuracy is 0.8333333333333334\n",
      "\n",
      "\n",
      "Classification report: \n",
      "                    precision    recall  f1-score   support\n",
      "\n",
      "          business       0.75      1.00      0.86        21\n",
      "          politics       1.00      0.44      0.62         9\n",
      "science_technology       0.94      0.73      0.82        22\n",
      "             sport       0.82      1.00      0.90        14\n",
      "\n",
      "          accuracy                           0.83        66\n",
      "         macro avg       0.88      0.79      0.80        66\n",
      "      weighted avg       0.86      0.83      0.82        66\n",
      "\n"
     ]
    }
   ],
   "source": [
    "# model evaluation\n",
    "\n",
    "print(f'Model accuracy is {accuracy_score(y_test, predicted)}\\n\\n')\n",
    "\n",
    "d_report = classification_report(y_test, predicted)\n",
    "print(f'Classification report: \\n{d_report}')"
   ]
  },
  {
   "cell_type": "code",
   "execution_count": 28,
   "metadata": {
    "id": "sii7ph8viH7D"
   },
   "outputs": [],
   "source": [
    "df.to_csv('/content/drive/MyDrive/datasets/all_input_data.csv', index=False)"
   ]
  },
  {
   "cell_type": "code",
   "execution_count": null,
   "metadata": {
    "id": "zseJmrZ4nOQT"
   },
   "outputs": [],
   "source": []
  }
 ],
 "metadata": {
  "colab": {
   "name": "dswf_project_final_2.ipynb",
   "provenance": []
  },
  "kernelspec": {
   "display_name": "Python 3 (ipykernel)",
   "language": "python",
   "name": "python3"
  },
  "language_info": {
   "codemirror_mode": {
    "name": "ipython",
    "version": 3
   },
   "file_extension": ".py",
   "mimetype": "text/x-python",
   "name": "python",
   "nbconvert_exporter": "python",
   "pygments_lexer": "ipython3",
   "version": "3.12.7"
  }
 },
 "nbformat": 4,
 "nbformat_minor": 4
}
